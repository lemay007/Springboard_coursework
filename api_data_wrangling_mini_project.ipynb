{
 "cells": [
  {
   "cell_type": "markdown",
   "metadata": {},
   "source": [
    "This exercise will require you to pull some data from the Qunadl API. Qaundl is currently the most widely used aggregator of financial market data."
   ]
  },
  {
   "cell_type": "markdown",
   "metadata": {},
   "source": [
    "As a first step, you will need to register a free account on the http://www.quandl.com website."
   ]
  },
  {
   "cell_type": "markdown",
   "metadata": {},
   "source": [
    "After you register, you will be provided with a unique API key, that you should store:"
   ]
  },
  {
   "cell_type": "code",
   "execution_count": 6,
   "metadata": {},
   "outputs": [],
   "source": [
    "# Store the API key as a string - according to PEP8, constants are always named in all upper case\n",
    "API_KEY = 'kbi4TDvqWJoVmBCbShBJ'"
   ]
  },
  {
   "cell_type": "markdown",
   "metadata": {},
   "source": [
    "Qaundl has a large number of data sources, but, unfortunately, most of them require a Premium subscription. Still, there are also a good number of free datasets."
   ]
  },
  {
   "cell_type": "markdown",
   "metadata": {},
   "source": [
    "For this mini project, we will focus on equities data from the Frankfurt Stock Exhange (FSE), which is available for free. We'll try and analyze the stock prices of a company called Carl Zeiss Meditec, which manufactures tools for eye examinations, as well as medical lasers for laser eye surgery: https://www.zeiss.com/meditec/int/home.html. The company is listed under the stock ticker AFX_X."
   ]
  },
  {
   "cell_type": "markdown",
   "metadata": {},
   "source": [
    "You can find the detailed Quandl API instructions here: https://docs.quandl.com/docs/time-series"
   ]
  },
  {
   "cell_type": "markdown",
   "metadata": {},
   "source": [
    "While there is a dedicated Python package for connecting to the Quandl API, we would prefer that you use the *requests* package, which can be easily downloaded using *pip* or *conda*. You can find the documentation for the package here: http://docs.python-requests.org/en/master/ "
   ]
  },
  {
   "cell_type": "markdown",
   "metadata": {},
   "source": [
    "Finally, apart from the *requests* package, you are encouraged to not use any third party Python packages, such as *pandas*, and instead focus on what's available in the Python Standard Library (the *collections* module might come in handy: https://pymotw.com/3/collections/ ).\n",
    "Also, since you won't have access to DataFrames, you are encouraged to us Python's native data structures - preferably dictionaries, though some questions can also be answered using lists.\n",
    "You can read more on these data structures here: https://docs.python.org/3/tutorial/datastructures.html"
   ]
  },
  {
   "cell_type": "markdown",
   "metadata": {},
   "source": [
    "Keep in mind that the JSON responses you will be getting from the API map almost one-to-one to Python's dictionaries. Unfortunately, they can be very nested, so make sure you read up on indexing dictionaries in the documentation provided above."
   ]
  },
  {
   "cell_type": "code",
   "execution_count": 1,
   "metadata": {},
   "outputs": [],
   "source": [
    "# First, import the relevant modules\n",
    "import requests\n"
   ]
  },
  {
   "cell_type": "code",
   "execution_count": 31,
   "metadata": {},
   "outputs": [
    {
     "name": "stdout",
     "output_type": "stream",
     "text": [
      "[['2020-05-28', 88.1, 91.7, 87.4, 91.45, None, 228651.0, 14809122.8, None, None, None]]\n"
     ]
    }
   ],
   "source": [
    "# Now, call the Quandl API and pull out a small sample of the data (only one day) to get a glimpse\n",
    "# into the JSON structure that will be returned\n",
    "url = 'https://www.quandl.com/api/v3/datasets/FSE/AFX_X/data.json'\n",
    "params = dict(key=API_KEY, start_date = '2020-05-28', end_date = '2020-05-28')\n",
    "res = requests.get(url,params)\n",
    "json = res.json()\n",
    "print(json['dataset_data']['data'])\n"
   ]
  },
  {
   "cell_type": "code",
   "execution_count": 30,
   "metadata": {},
   "outputs": [
    {
     "name": "stdout",
     "output_type": "stream",
     "text": [
      "1\n",
      "dict_keys(['dataset_data'])\n",
      "dict_values([{'limit': None, 'transform': None, 'column_index': None, 'column_names': ['Date', 'Open', 'High', 'Low', 'Close', 'Change', 'Traded Volume', 'Turnover', 'Last Price of the Day', 'Daily Traded Units', 'Daily Turnover'], 'start_date': '2020-05-28', 'end_date': '2020-05-28', 'frequency': 'daily', 'data': [['2020-05-28', 88.1, 91.7, 87.4, 91.45, None, 228651.0, 14809122.8, None, None, None]], 'collapse': None, 'order': None}])\n",
      "10\n",
      "dict_keys(['limit', 'transform', 'column_index', 'column_names', 'start_date', 'end_date', 'frequency', 'data', 'collapse', 'order'])\n"
     ]
    }
   ],
   "source": [
    "# Inspect the JSON structure of the object you created, and take note of how nested it is,\n",
    "# as well as the overall structure\n",
    "print(len(json))\n",
    "print(json.keys())\n",
    "print(json.values())\n",
    "print(len(json['dataset_data']))\n",
    "print(json['dataset_data'].keys())"
   ]
  },
  {
   "cell_type": "markdown",
   "metadata": {},
   "source": [
    "These are your tasks for this mini project:\n",
    "\n",
    "1. Collect data from the Franfurt Stock Exchange, for the ticker AFX_X, for the whole year 2017 (keep in mind that the date format is YYYY-MM-DD).\n",
    "2. Convert the returned JSON object into a Python dictionary.\n",
    "3. Calculate what the highest and lowest opening prices were for the stock in this period.\n",
    "4. What was the largest change in any one day (based on High and Low price)?\n",
    "5. What was the largest change between any two days (based on Closing Price)?\n",
    "6. What was the average daily trading volume during this year?\n",
    "7. (Optional) What was the median trading volume during this year. (Note: you may need to implement your own function for calculating the median.)"
   ]
  },
  {
   "cell_type": "code",
   "execution_count": 46,
   "metadata": {},
   "outputs": [
    {
     "name": "stdout",
     "output_type": "stream",
     "text": [
      "<class 'dict'>\n",
      "dict_keys(['dataset_data'])\n",
      "10\n"
     ]
    }
   ],
   "source": [
    "# Collect the data from FSE and the company AFX_X for 2017 and convert to Python dictionary\n",
    "url = 'https://www.quandl.com/api/v3/datasets/FSE/AFX_X/data.json'\n",
    "params = dict(key=API_KEY, start_date = '2017-01-01', end_date = '2017-12-31') #we are only interested in one year\n",
    "res = requests.get(url,params)\n",
    "json1 = res.json() #convert the returned object into a dict\n",
    "print(type(json1))\n",
    "print(json1.keys())\n",
    "mydict = json1['dataset_data'] #there is only one key with nested data\n",
    "print(len(mydict))"
   ]
  },
  {
   "cell_type": "code",
   "execution_count": 53,
   "metadata": {},
   "outputs": [
    {
     "name": "stdout",
     "output_type": "stream",
     "text": [
      "dict_keys(['limit', 'transform', 'column_index', 'column_names', 'start_date', 'end_date', 'frequency', 'data', 'collapse', 'order'])\n",
      "['Date', 'Open', 'High', 'Low', 'Close', 'Change', 'Traded Volume', 'Turnover', 'Last Price of the Day', 'Daily Traded Units', 'Daily Turnover']\n",
      "255\n",
      "<class 'list'>\n"
     ]
    },
    {
     "data": {
      "text/plain": [
       "['2017-12-27',\n",
       " 51.45,\n",
       " 51.89,\n",
       " 50.76,\n",
       " 51.82,\n",
       " None,\n",
       " 57452.0,\n",
       " 2957018.0,\n",
       " None,\n",
       " None,\n",
       " None]"
      ]
     },
     "execution_count": 53,
     "metadata": {},
     "output_type": "execute_result"
    }
   ],
   "source": [
    "'''\n",
    "print(mydict.keys())\n",
    "print(mydict['column_names']) #this shows us the arrangement of data\n",
    "print(len(mydict['data'])) #inspecting the data\n",
    "print(type(mydict['data']))\n",
    "mydict['data'][2] #list of lists\n",
    "'''"
   ]
  },
  {
   "cell_type": "code",
   "execution_count": 108,
   "metadata": {},
   "outputs": [
    {
     "name": "stdout",
     "output_type": "stream",
     "text": [
      "Highest open price was: $53.11\n",
      "Lowest open price was: $34.00\n"
     ]
    }
   ],
   "source": [
    "#calculate the highest and lowest opening prices\n",
    "list_features = mydict['column_names'] #according to this list the opening prices are located at index 1\n",
    "data = mydict['data']\n",
    "\n",
    "open_max = max([item[1] for item in data if item[1] is not None])\n",
    "open_min = min([item[1] for item in data if item[1] is not None])\n",
    "\n",
    "print('Highest open price was: $' + str(open_max))\n",
    "print('Lowest open price was: $' + str(format(open_min, '.2f')))"
   ]
  },
  {
   "cell_type": "code",
   "execution_count": 110,
   "metadata": {},
   "outputs": [
    {
     "name": "stdout",
     "output_type": "stream",
     "text": [
      "The biggest change in any one day: $2.81\n"
     ]
    }
   ],
   "source": [
    "#calculate the maximum change in one day (one row)\n",
    "bg_chg = max([(item[2]-item[3]) for item in data if item[2:3] is not None])\n",
    "print('The biggest change in any one day: $' + str(format(bg_chg,'.2f')))"
   ]
  },
  {
   "cell_type": "code",
   "execution_count": 137,
   "metadata": {},
   "outputs": [
    {
     "name": "stdout",
     "output_type": "stream",
     "text": [
      "The biggest change of closing price in any two days: $3.15\n"
     ]
    }
   ],
   "source": [
    "# calculate the maximum change over two days (two rows)\n",
    "two_dat_chg = max([data[i+2][4]-data[i][4] for i in range(len(data)-2)])\n",
    "print('The biggest change of closing price in any two days: $' + str(format(two_dat_chg,'.2f')))"
   ]
  },
  {
   "cell_type": "code",
   "execution_count": 128,
   "metadata": {},
   "outputs": [
    {
     "name": "stdout",
     "output_type": "stream",
     "text": [
      "The average daily traded volumn is 89124 shares.\n"
     ]
    }
   ],
   "source": [
    "# Get the average daily trading volume\n",
    "idx = list_features.index('Traded Volume')\n",
    "\n",
    "avg_trad = sum([item[idx] for item in data])/len(data)\n",
    "print('The average daily traded volumn is ' + str(round(avg_trad)) + ' shares.')"
   ]
  },
  {
   "cell_type": "code",
   "execution_count": 143,
   "metadata": {},
   "outputs": [
    {
     "name": "stdout",
     "output_type": "stream",
     "text": [
      "The median trade volume over the year is 134965.\n"
     ]
    }
   ],
   "source": [
    "# Median trading volumes\n",
    "def median(lst):\n",
    "    lst2 = []\n",
    "    for item in lst:\n",
    "        lst2.append(item[idx])\n",
    "    n = len(lst2)\n",
    "    s = sorted(lst2)\n",
    "    half = n//2\n",
    "    b = lst2[half]\n",
    "    c = lst2[-half-1]\n",
    "    return (b+c)/2\n",
    "\n",
    "print('The median trade volume over the year is ' + str(round(median(data))) + '.')"
   ]
  }
 ],
 "metadata": {
  "kernelspec": {
   "display_name": "Python 3",
   "language": "python",
   "name": "python3"
  },
  "language_info": {
   "codemirror_mode": {
    "name": "ipython",
    "version": 3
   },
   "file_extension": ".py",
   "mimetype": "text/x-python",
   "name": "python",
   "nbconvert_exporter": "python",
   "pygments_lexer": "ipython3",
   "version": "3.7.6"
  }
 },
 "nbformat": 4,
 "nbformat_minor": 2
}
